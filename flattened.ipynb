{
 "cells": [
  {
   "cell_type": "code",
   "execution_count": 1,
   "id": "94c85d6f",
   "metadata": {},
   "outputs": [
    {
     "name": "stdout",
     "output_type": "stream",
     "text": [
      "✅ Dataset folders flattened successfully.\n"
     ]
    }
   ],
   "source": [
    "import os\n",
    "import shutil\n",
    "\n",
    "# Define the base dataset directory\n",
    "base_dir = r'C:/Users/Manhab Zafar/Desktop/DIP-Project/yolov5/dataset'\n",
    "\n",
    "# Split types to process\n",
    "splits = ['train', 'val', 'test']\n",
    "\n",
    "# Process each split\n",
    "for split in splits:\n",
    "    image_dir = os.path.join(base_dir, 'images', split)\n",
    "    label_dir = os.path.join(base_dir, 'labels', split)\n",
    "\n",
    "    # Create a flat image and label dir if not exist\n",
    "    os.makedirs(image_dir, exist_ok=True)\n",
    "    os.makedirs(label_dir, exist_ok=True)\n",
    "\n",
    "    # Go through each subfolder (class folder)\n",
    "    subfolders = [f for f in os.listdir(image_dir) if os.path.isdir(os.path.join(image_dir, f))]\n",
    "\n",
    "    for subfolder in subfolders:\n",
    "        subfolder_path_img = os.path.join(image_dir, subfolder)\n",
    "        subfolder_path_lbl = os.path.join(label_dir, subfolder)\n",
    "\n",
    "        for filename in os.listdir(subfolder_path_img):\n",
    "            if filename.lower().endswith(('.jpg', '.jpeg', '.png')):\n",
    "                new_name = f\"{subfolder}_{filename}\"\n",
    "                src_img = os.path.join(subfolder_path_img, filename)\n",
    "                dst_img = os.path.join(image_dir, new_name)\n",
    "                shutil.move(src_img, dst_img)\n",
    "\n",
    "                # Try to move corresponding label file\n",
    "                label_name = os.path.splitext(filename)[0] + '.txt'\n",
    "                src_lbl = os.path.join(subfolder_path_lbl, label_name)\n",
    "                if os.path.exists(src_lbl):\n",
    "                    dst_lbl = os.path.join(label_dir, os.path.splitext(new_name)[0] + '.txt')\n",
    "                    shutil.move(src_lbl, dst_lbl)\n",
    "\n",
    "        # After moving files, remove the empty folders\n",
    "        shutil.rmtree(subfolder_path_img, ignore_errors=True)\n",
    "        shutil.rmtree(subfolder_path_lbl, ignore_errors=True)\n",
    "\n",
    "print(\" Dataset folders flattened successfully.\")\n"
   ]
  }
 ],
 "metadata": {
  "kernelspec": {
   "display_name": "Python 3",
   "language": "python",
   "name": "python3"
  },
  "language_info": {
   "codemirror_mode": {
    "name": "ipython",
    "version": 3
   },
   "file_extension": ".py",
   "mimetype": "text/x-python",
   "name": "python",
   "nbconvert_exporter": "python",
   "pygments_lexer": "ipython3",
   "version": "3.12.0"
  }
 },
 "nbformat": 4,
 "nbformat_minor": 5
}
